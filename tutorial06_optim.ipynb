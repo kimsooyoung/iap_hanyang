{
  "cells": [
    {
      "cell_type": "markdown",
      "metadata": {
        "id": "view-in-github",
        "colab_type": "text"
      },
      "source": [
        "<a href=\"https://colab.research.google.com/github/kimsooyoung/iap_hanyang/blob/main/tutorial06_optim.ipynb\" target=\"_parent\"><img src=\"https://colab.research.google.com/assets/colab-badge.svg\" alt=\"Open In Colab\"/></a>"
      ]
    },
    {
      "cell_type": "code",
      "execution_count": null,
      "metadata": {
        "colab": {
          "base_uri": "https://localhost:8080/"
        },
        "id": "fjqoyHa-5Zv5",
        "outputId": "c8b80c0a-53be-4892-be62-6ed65b43a90d"
      },
      "outputs": [
        {
          "output_type": "stream",
          "name": "stdout",
          "text": [
            "Net(\n",
            "  (conv1): Conv2d(1, 6, kernel_size=(3, 3), stride=(1, 1))\n",
            "  (conv2): Conv2d(6, 16, kernel_size=(3, 3), stride=(1, 1))\n",
            "  (fc1): Linear(in_features=576, out_features=120, bias=True)\n",
            "  (fc2): Linear(in_features=120, out_features=84, bias=True)\n",
            "  (fc3): Linear(in_features=84, out_features=10, bias=True)\n",
            ")\n"
          ]
        }
      ],
      "source": [
        "import torch\n",
        "import torch.nn as nn\n",
        "import torch.nn.functional as F\n",
        "\n",
        "\n",
        "class Net(nn.Module):\n",
        "\n",
        "    def __init__(self):\n",
        "        super(Net, self).__init__()\n",
        "        # 1 input image channel, 6 output channels, 3x3 square convolution\n",
        "        # kernel\n",
        "        # LeNet이라 불리는 모델임\n",
        "        self.conv1 = nn.Conv2d(1, 6, 3)\n",
        "        self.conv2 = nn.Conv2d(6, 16, 3)\n",
        "        # an affine operation: y = Wx + b\n",
        "        self.fc1 = nn.Linear(16 * 6 * 6, 120)  # 6*6 from image dimension\n",
        "        self.fc2 = nn.Linear(120, 84)\n",
        "        self.fc3 = nn.Linear(84, 10)\n",
        "\n",
        "    def forward(self, x):\n",
        "        # Max pooling over a (2, 2) window\n",
        "        x = F.max_pool2d(F.relu(self.conv1(x)), (2, 2))\n",
        "        # If the size is a square you can only specify a single number\n",
        "        x = F.max_pool2d(F.relu(self.conv2(x)), 2)\n",
        "        # <img width=\"613\" alt=\"image\" src=\"https://user-images.githubusercontent.com/12381733/160575164-84dad783-1c86-4ad5-8826-49125c41ee1c.png\">\n",
        "        x = x.view(-1, self.num_flat_features(x))\n",
        "        x = F.relu(self.fc1(x))\n",
        "        x = F.relu(self.fc2(x))\n",
        "        x = self.fc3(x)\n",
        "        return x\n",
        "\n",
        "    def num_flat_features(self, x):\n",
        "        size = x.size()[1:]  # all dimensions except the batch dimension\n",
        "        num_features = 1\n",
        "        for s in size:\n",
        "            num_features *= s\n",
        "        return num_features\n",
        "    \n",
        "\n",
        "net = Net()\n",
        "print(net)"
      ]
    },
    {
      "cell_type": "code",
      "execution_count": null,
      "metadata": {
        "scrolled": true,
        "colab": {
          "base_uri": "https://localhost:8080/"
        },
        "id": "UB9enabK5Zv-",
        "outputId": "7e433305-712a-4233-a4e4-f832f4d1a5bf"
      },
      "outputs": [
        {
          "output_type": "stream",
          "name": "stdout",
          "text": [
            "10\n",
            "torch.Size([6, 1, 3, 3])\n",
            "torch.Size([6, 1, 3, 3])\n",
            "torch.Size([6])\n",
            "torch.Size([16, 6, 3, 3])\n",
            "torch.Size([16])\n",
            "torch.Size([120, 576])\n",
            "torch.Size([120])\n",
            "torch.Size([84, 120])\n",
            "torch.Size([84])\n",
            "torch.Size([10, 84])\n",
            "torch.Size([10])\n"
          ]
        }
      ],
      "source": [
        "params = list(net.parameters())\n",
        "print(len(params))\n",
        "print(params[0].size())  # conv1's .weight\n",
        "\n",
        "for i in range(len(params)):\n",
        "  print(params[i].size())"
      ]
    },
    {
      "cell_type": "code",
      "execution_count": null,
      "metadata": {
        "scrolled": true,
        "colab": {
          "base_uri": "https://localhost:8080/"
        },
        "id": "I6Tzn3iT5Zv-",
        "outputId": "f4aa6eb6-c4d0-4b3f-d446-2624e2cf4314"
      },
      "outputs": [
        {
          "output_type": "stream",
          "name": "stdout",
          "text": [
            "tensor([[ 0.1337, -0.0800,  0.0863, -0.0080, -0.1371, -0.0411, -0.0605,  0.1767,\n",
            "         -0.0350, -0.0802]], grad_fn=<AddmmBackward0>)\n"
          ]
        }
      ],
      "source": [
        "input = torch.randn(1, 1, 32, 32)\n",
        "output = net(input)\n",
        "print(output)"
      ]
    },
    {
      "cell_type": "code",
      "source": [
        "torch.randn(10).view(1, -1)"
      ],
      "metadata": {
        "colab": {
          "base_uri": "https://localhost:8080/"
        },
        "id": "bcwvsTEis8Y0",
        "outputId": "f59c6ca9-802d-4ec2-803a-766b923af4f5"
      },
      "execution_count": null,
      "outputs": [
        {
          "output_type": "execute_result",
          "data": {
            "text/plain": [
              "tensor([[ 0.3440,  0.7985, -1.1417, -1.5049, -0.5218, -0.4713,  0.0683,  0.2591,\n",
              "         -1.6919,  1.5151]])"
            ]
          },
          "metadata": {},
          "execution_count": 5
        }
      ]
    },
    {
      "cell_type": "code",
      "execution_count": null,
      "metadata": {
        "colab": {
          "base_uri": "https://localhost:8080/"
        },
        "id": "aQRkBDUr5Zv_",
        "outputId": "1d859a13-0701-4f3b-ffa4-336c1581709c"
      },
      "outputs": [
        {
          "output_type": "stream",
          "name": "stdout",
          "text": [
            "tensor(0.7421, grad_fn=<MseLossBackward0>)\n"
          ]
        }
      ],
      "source": [
        "target = torch.randn(10)  # a dummy target, for example\n",
        "target = target.view(1, -1)  # make it the same shape as output => 1차원 더 패딩을 하였음\n",
        "criterion = nn.MSELoss()\n",
        "\n",
        "loss = criterion(output, target)\n",
        "print(loss)"
      ]
    },
    {
      "cell_type": "code",
      "execution_count": null,
      "metadata": {
        "colab": {
          "base_uri": "https://localhost:8080/"
        },
        "id": "0gemCgGt5ZwA",
        "outputId": "b8c55329-7ade-4bab-b2a0-2ede718bedf1"
      },
      "outputs": [
        {
          "output_type": "stream",
          "name": "stdout",
          "text": [
            "<MseLossBackward0 object at 0x7fdd8b652c50>\n",
            "<AddmmBackward0 object at 0x7fdd8b652c50>\n",
            "<AccumulateGrad object at 0x7fdd8b65c290>\n"
          ]
        }
      ],
      "source": [
        "print(loss.grad_fn)  # MSELoss\n",
        "print(loss.grad_fn.next_functions[0][0])  # Linear\n",
        "print(loss.grad_fn.next_functions[0][0].next_functions[0][0])  # ReLU"
      ]
    },
    {
      "cell_type": "code",
      "execution_count": null,
      "metadata": {
        "colab": {
          "base_uri": "https://localhost:8080/"
        },
        "id": "mUSI1t6y5ZwA",
        "outputId": "ef153856-630a-42ec-911b-283d8555da97"
      },
      "outputs": [
        {
          "output_type": "stream",
          "name": "stdout",
          "text": [
            "conv1.bias.grad before backward\n",
            "None\n",
            "conv1.bias.grad after backward\n",
            "tensor([ 0.0047, -0.0102, -0.0016, -0.0093,  0.0101,  0.0081])\n"
          ]
        }
      ],
      "source": [
        "net.zero_grad()     # zeroes the gradient buffers of all parameters\n",
        "\n",
        "print('conv1.bias.grad before backward')\n",
        "print(net.conv1.bias.grad)\n",
        "\n",
        "loss.backward()\n",
        "\n",
        "print('conv1.bias.grad after backward')\n",
        "print(net.conv1.bias.grad)"
      ]
    },
    {
      "cell_type": "code",
      "execution_count": null,
      "metadata": {
        "colab": {
          "base_uri": "https://localhost:8080/"
        },
        "id": "9b3NzitO5ZwB",
        "outputId": "cb882371-1c74-4661-b4fe-9c9658ce0bb4"
      },
      "outputs": [
        {
          "output_type": "stream",
          "name": "stdout",
          "text": [
            "Before weight update:  tensor([ 0.3162, -0.1054, -0.1281,  0.2160,  0.1284, -0.0236])\n",
            "Gradients for weight:  tensor([ 0.0047, -0.0102, -0.0016, -0.0093,  0.0101,  0.0081])\n",
            "After weight update :  tensor([ 0.3161, -0.1053, -0.1281,  0.2160,  0.1283, -0.0237])\n"
          ]
        }
      ],
      "source": [
        "x = net.conv1.bias.detach()\n",
        "x_grad = net.conv1.bias.grad.detach()\n",
        "print('Before weight update: ', x.data)\n",
        "print('Gradients for weight: ', x_grad.data)\n",
        "\n",
        "# Stochastic gradient descent: w = w - lr * wgrad\n",
        "learning_rate = 0.01\n",
        "x_new = x - (x_grad * learning_rate)\n",
        "print('After weight update : ', x_new.data)\n",
        "\n",
        "# learning_rate = 0.01\n",
        "# x.data.sub_(x.grad.data * learning_rate)"
      ]
    },
    {
      "cell_type": "code",
      "execution_count": null,
      "metadata": {
        "colab": {
          "base_uri": "https://localhost:8080/"
        },
        "id": "vUf2rsiI5ZwC",
        "outputId": "77b426a5-bd27-469f-9707-346879ce0ba9"
      },
      "outputs": [
        {
          "output_type": "stream",
          "name": "stdout",
          "text": [
            "After optim step :  tensor([ 0.3161, -0.1053, -0.1281,  0.2160,  0.1283, -0.0237])\n"
          ]
        }
      ],
      "source": [
        "import torch.optim as optim\n",
        "\n",
        "# create your optimizer\n",
        "optimizer = optim.SGD(net.parameters(), lr=0.01)\n",
        "\n",
        "# in your training loop:\n",
        "optimizer.zero_grad()   # zero the gradient buffers\n",
        "output = net(input)\n",
        "loss = criterion(output, target)\n",
        "loss.backward()\n",
        "optimizer.step()    # Does the update\n",
        "\n",
        "print('After optim step : ', net.conv1.bias.data)"
      ]
    },
    {
      "cell_type": "markdown",
      "source": [
        "## Save/load models"
      ],
      "metadata": {
        "id": "NlXOzcAZw8oI"
      }
    },
    {
      "cell_type": "code",
      "source": [
        "stored_obj = {\n",
        "    'model_state_dict': net.state_dict(),\n",
        "    'optimizer_state_dict': optimizer.state_dict(),\n",
        "}\n",
        "torch.save(stored_obj, 'fileName.pt')"
      ],
      "metadata": {
        "id": "zRBAmoZE7eWM"
      },
      "execution_count": 11,
      "outputs": []
    },
    {
      "cell_type": "code",
      "source": [
        "new_model = Net()\n",
        "new_optimizer = optim.SGD(new_model.parameters(), lr=0.01)\n",
        "\n",
        "checkpoint = torch.load('fileName.pt')\n",
        "new_model.load_state_dict(checkpoint['model_state_dict'])\n",
        "optimizer.load_state_dict(checkpoint['optimizer_state_dict'])"
      ],
      "metadata": {
        "id": "HNSQzXqew5OC"
      },
      "execution_count": 12,
      "outputs": []
    }
  ],
  "metadata": {
    "kernelspec": {
      "display_name": "Python 3",
      "language": "python",
      "name": "python3"
    },
    "language_info": {
      "codemirror_mode": {
        "name": "ipython",
        "version": 3
      },
      "file_extension": ".py",
      "mimetype": "text/x-python",
      "name": "python",
      "nbconvert_exporter": "python",
      "pygments_lexer": "ipython3",
      "version": "3.8.3"
    },
    "colab": {
      "name": "tutorial06_optim.ipynb",
      "provenance": [],
      "collapsed_sections": [],
      "include_colab_link": true
    }
  },
  "nbformat": 4,
  "nbformat_minor": 0
}