{
  "cells": [
    {
      "cell_type": "markdown",
      "metadata": {
        "id": "view-in-github",
        "colab_type": "text"
      },
      "source": [
        "<a href=\"https://colab.research.google.com/github/kimsooyoung/iap_hanyang/blob/main/tutorial05_nn.ipynb\" target=\"_parent\"><img src=\"https://colab.research.google.com/assets/colab-badge.svg\" alt=\"Open In Colab\"/></a>"
      ]
    },
    {
      "cell_type": "code",
      "execution_count": 1,
      "metadata": {
        "id": "al33Q4Da2p3j"
      },
      "outputs": [],
      "source": [
        "import torch\n",
        "import torch.nn as nn\n",
        "import torch.nn.functional as F"
      ]
    },
    {
      "cell_type": "markdown",
      "source": [
        "<img width=\"719\" alt=\"image\" src=\"https://user-images.githubusercontent.com/12381733/160572768-6c3d0185-a0e7-41c2-8828-70fd89029a38.png\">\n"
      ],
      "metadata": {
        "id": "F9QKcfpu3no4"
      }
    },
    {
      "cell_type": "code",
      "execution_count": 2,
      "metadata": {
        "id": "VUJwrH6_2p3m"
      },
      "outputs": [],
      "source": [
        "# 나만의 딥러닝 모델 만들기 \n",
        "\n",
        "class Model(nn.Module):\n",
        "    def __init__(self):\n",
        "        super().__init__()\n",
        "        # let's assume 28x28 input images, e.g. MNIST characters\n",
        "        self.fc1 = nn.Linear(in_features = 28 * 28, out_features = 128, bias=True)\n",
        "        self.fc2 = nn.Linear(in_features = 128, out_features = 64, bias=True)\n",
        "        self.fc3 = nn.Linear(in_features = 64, out_features = 10, bias=True)\n",
        "    \n",
        "    def forward(self, x):\n",
        "        x = F.relu(self.fc1(x))\n",
        "        x = F.relu(self.fc2(x))\n",
        "        x = self.fc3(x)\n",
        "        return x\n"
      ]
    },
    {
      "cell_type": "code",
      "execution_count": 3,
      "metadata": {
        "id": "Ueirj9se2p3n"
      },
      "outputs": [],
      "source": [
        "model = Model()"
      ]
    },
    {
      "cell_type": "code",
      "source": [
        "print(model)"
      ],
      "metadata": {
        "colab": {
          "base_uri": "https://localhost:8080/"
        },
        "id": "evMkG4ja3_yZ",
        "outputId": "2ea2d6a1-c501-48fa-915d-99cfa674f314"
      },
      "execution_count": 4,
      "outputs": [
        {
          "output_type": "stream",
          "name": "stdout",
          "text": [
            "Model(\n",
            "  (fc1): Linear(in_features=784, out_features=128, bias=True)\n",
            "  (fc2): Linear(in_features=128, out_features=64, bias=True)\n",
            "  (fc3): Linear(in_features=64, out_features=10, bias=True)\n",
            ")\n"
          ]
        }
      ]
    },
    {
      "cell_type": "code",
      "execution_count": 5,
      "metadata": {
        "colab": {
          "base_uri": "https://localhost:8080/"
        },
        "id": "goF2FOVJ2p3o",
        "outputId": "dcb7f4f1-413f-4854-9809-92141f6b9ee7"
      },
      "outputs": [
        {
          "output_type": "execute_result",
          "data": {
            "text/plain": [
              "[Linear(in_features=784, out_features=128, bias=True),\n",
              " Linear(in_features=128, out_features=64, bias=True),\n",
              " Linear(in_features=64, out_features=10, bias=True)]"
            ]
          },
          "metadata": {},
          "execution_count": 5
        }
      ],
      "source": [
        "list(model.children())"
      ]
    },
    {
      "cell_type": "code",
      "execution_count": 6,
      "metadata": {
        "colab": {
          "base_uri": "https://localhost:8080/"
        },
        "id": "BbV74xl72p3p",
        "outputId": "ec68b459-5268-44f3-b1d5-51d7e341e020"
      },
      "outputs": [
        {
          "output_type": "stream",
          "name": "stdout",
          "text": [
            "layer = fc1.weight | feature shape = torch.Size([128, 784])\n",
            "layer = fc1.bias   | feature shape = torch.Size([128])\n",
            "layer = fc2.weight | feature shape = torch.Size([64, 128])\n",
            "layer = fc2.bias   | feature shape = torch.Size([64])\n",
            "layer = fc3.weight | feature shape = torch.Size([10, 64])\n",
            "layer = fc3.bias   | feature shape = torch.Size([10])\n"
          ]
        }
      ],
      "source": [
        "for key, value in model.state_dict().items():\n",
        "    print(f'layer = {key:10s} | feature shape = {value.shape}')"
      ]
    }
  ],
  "metadata": {
    "kernelspec": {
      "display_name": "Python 3",
      "language": "python",
      "name": "python3"
    },
    "language_info": {
      "codemirror_mode": {
        "name": "ipython",
        "version": 3
      },
      "file_extension": ".py",
      "mimetype": "text/x-python",
      "name": "python",
      "nbconvert_exporter": "python",
      "pygments_lexer": "ipython3",
      "version": "3.8.3"
    },
    "colab": {
      "name": "tutorial05_nn.ipynb",
      "provenance": [],
      "collapsed_sections": [],
      "include_colab_link": true
    }
  },
  "nbformat": 4,
  "nbformat_minor": 0
}