{
  "cells": [
    {
      "cell_type": "markdown",
      "metadata": {
        "id": "view-in-github",
        "colab_type": "text"
      },
      "source": [
        "<a href=\"https://colab.research.google.com/github/kimsooyoung/iap_hanyang/blob/main/tutorial02_autograd.ipynb\" target=\"_parent\"><img src=\"https://colab.research.google.com/assets/colab-badge.svg\" alt=\"Open In Colab\"/></a>"
      ]
    },
    {
      "cell_type": "code",
      "execution_count": null,
      "metadata": {
        "id": "8fAXH-vOpUt_"
      },
      "outputs": [],
      "source": [
        "import torch\n",
        "from torch.autograd import grad\n",
        "\n",
        "x1 = torch.tensor(2, requires_grad=True, dtype=torch.float32)\n",
        "x2 = torch.tensor(3, requires_grad=True, dtype=torch.float32)\n",
        "x3 = torch.tensor(1, requires_grad=True, dtype=torch.float32)\n",
        "x4 = torch.tensor(4, requires_grad=True, dtype=torch.float32)"
      ]
    },
    {
      "cell_type": "code",
      "execution_count": null,
      "metadata": {
        "id": "4Gm5Opv_pUuF"
      },
      "outputs": [],
      "source": [
        "z1 = x1*x2\n",
        "z2 = x3*x4\n",
        "\n",
        "f = z1 + z2\n",
        "\n",
        "# 1 grad 함수 사용하기\n",
        "df_dx = grad(outputs=f, inputs=[x1,x2,x3,x4])\n",
        "df_dz = grad(outputs=f, inputs=[z1,z2])"
      ]
    },
    {
      "cell_type": "code",
      "source": [
        "# 이건 grad 쓸때 예시임 위에 고치고 오자\n",
        "print(f'gradient of x1 = {df_dx[0]}')\n",
        "print(f'gradient of x2 = {df_dx[1]}')\n",
        "print(f'gradient of x3 = {df_dx[2]}')\n",
        "print(f'gradient of x4 = {df_dx[3]}')\n",
        "\n",
        "print(f'gradient of z1 = {df_dz[0]}')\n",
        "print(f'gradient of z2 = {df_dz[1]}')"
      ],
      "metadata": {
        "colab": {
          "base_uri": "https://localhost:8080/"
        },
        "id": "fXNJehLB9kps",
        "outputId": "8f76464c-d3f4-49b2-cf34-887e7d08515e"
      },
      "execution_count": null,
      "outputs": [
        {
          "output_type": "stream",
          "name": "stdout",
          "text": [
            "gradient of x1 = 3.0\n",
            "gradient of x2 = 2.0\n",
            "gradient of x3 = 4.0\n",
            "gradient of x4 = 1.0\n",
            "gradient of z1 = 1.0\n",
            "gradient of z2 = 1.0\n"
          ]
        }
      ]
    },
    {
      "cell_type": "code",
      "source": [
        "# 2 backward 함수 사용하기\n",
        "# 이거 할때는 grad를 쓰면 안된다.\n",
        "\n",
        "z1 = x1*x2\n",
        "z2 = x3*x4\n",
        "\n",
        "f = z1 + z2\n",
        "\n",
        "f.backward() # a more convenient way to invoke backward pass\n",
        "print(x1.grad)\n",
        "print(x2.grad)\n",
        "print(x3.grad)\n",
        "print(x4.grad)\n",
        "\n",
        "print(z1.grad)\n",
        "print(z2.grad)"
      ],
      "metadata": {
        "colab": {
          "base_uri": "https://localhost:8080/"
        },
        "id": "-iqXrZMBw35O",
        "outputId": "e40bc3e5-80a7-4713-90dc-b0577bb4dff7"
      },
      "execution_count": null,
      "outputs": [
        {
          "output_type": "stream",
          "name": "stdout",
          "text": [
            "tensor(9.)\n",
            "tensor(6.)\n",
            "tensor(12.)\n",
            "tensor(3.)\n",
            "None\n",
            "None\n"
          ]
        },
        {
          "output_type": "stream",
          "name": "stderr",
          "text": [
            "/usr/local/lib/python3.7/dist-packages/torch/_tensor.py:1013: UserWarning: The .grad attribute of a Tensor that is not a leaf Tensor is being accessed. Its .grad attribute won't be populated during autograd.backward(). If you indeed want the .grad field to be populated for a non-leaf Tensor, use .retain_grad() on the non-leaf Tensor. If you access the non-leaf Tensor by mistake, make sure you access the leaf Tensor instead. See github.com/pytorch/pytorch/pull/30531 for more informations. (Triggered internally at  aten/src/ATen/core/TensorBody.h:417.)\n",
            "  return self._grad\n"
          ]
        }
      ]
    },
    {
      "cell_type": "code",
      "execution_count": null,
      "metadata": {
        "id": "c92CLiWRpUuJ",
        "outputId": "8115314a-afcf-4249-ebb0-326ec42e366b",
        "colab": {
          "base_uri": "https://localhost:8080/"
        }
      },
      "outputs": [
        {
          "output_type": "execute_result",
          "data": {
            "text/plain": [
              "True"
            ]
          },
          "metadata": {},
          "execution_count": 4
        }
      ],
      "source": [
        "x = torch.tensor([1.0], requires_grad=True)\n",
        "y = x * 2\n",
        "y.requires_grad"
      ]
    },
    {
      "cell_type": "code",
      "execution_count": null,
      "metadata": {
        "id": "JgiCvIJrpUuK",
        "outputId": "b3141bb2-36b9-4889-a084-044ff770a596",
        "colab": {
          "base_uri": "https://localhost:8080/"
        }
      },
      "outputs": [
        {
          "output_type": "execute_result",
          "data": {
            "text/plain": [
              "False"
            ]
          },
          "metadata": {},
          "execution_count": 5
        }
      ],
      "source": [
        "x = torch.tensor([1.0], requires_grad=True)\n",
        "\n",
        "# 특정 변수를 고정시켜두고 보고 싶은 경우,\n",
        "# 아래를 보면 requires_grad가 false가 된 것을 볼 수 있다.\n",
        "with torch.no_grad():\n",
        "    y = x * 2\n",
        "y.requires_grad"
      ]
    },
    {
      "cell_type": "code",
      "execution_count": null,
      "metadata": {
        "id": "fP2rRDgZpUuL",
        "outputId": "0ff68ada-26d4-43b8-eed4-0b7d47b04aa2"
      },
      "outputs": [
        {
          "data": {
            "text/plain": [
              "True"
            ]
          },
          "execution_count": 11,
          "metadata": {},
          "output_type": "execute_result"
        }
      ],
      "source": [
        "x = torch.tensor([1.0], requires_grad=True)\n",
        "with torch.no_grad():\n",
        "    with torch.enable_grad():\n",
        "        y = x * 2\n",
        "y.requires_grad"
      ]
    },
    {
      "cell_type": "markdown",
      "source": [
        "# Autograd Ex2: Solving a Linear Problem"
      ],
      "metadata": {
        "id": "p6WSnIn8yNcV"
      }
    },
    {
      "cell_type": "code",
      "execution_count": null,
      "metadata": {
        "id": "zFl8UgcopUuN"
      },
      "outputs": [],
      "source": [
        "import numpy as np\n",
        "\n",
        "a_ref = -1.5\n",
        "b_ref = 8\n",
        "noise = 0.2 * np.random.randn(50)"
      ]
    },
    {
      "cell_type": "code",
      "execution_count": null,
      "metadata": {
        "id": "rwqI3d9opUuO",
        "colab": {
          "base_uri": "https://localhost:8080/"
        },
        "outputId": "37e4e210-37fb-403e-f92d-6ab426b8f39f"
      },
      "outputs": [
        {
          "output_type": "execute_result",
          "data": {
            "text/plain": [
              "array([1.        , 1.06122449, 1.12244898, 1.18367347, 1.24489796,\n",
              "       1.30612245, 1.36734694, 1.42857143, 1.48979592, 1.55102041,\n",
              "       1.6122449 , 1.67346939, 1.73469388, 1.79591837, 1.85714286,\n",
              "       1.91836735, 1.97959184, 2.04081633, 2.10204082, 2.16326531,\n",
              "       2.2244898 , 2.28571429, 2.34693878, 2.40816327, 2.46938776,\n",
              "       2.53061224, 2.59183673, 2.65306122, 2.71428571, 2.7755102 ,\n",
              "       2.83673469, 2.89795918, 2.95918367, 3.02040816, 3.08163265,\n",
              "       3.14285714, 3.20408163, 3.26530612, 3.32653061, 3.3877551 ,\n",
              "       3.44897959, 3.51020408, 3.57142857, 3.63265306, 3.69387755,\n",
              "       3.75510204, 3.81632653, 3.87755102, 3.93877551, 4.        ])"
            ]
          },
          "metadata": {},
          "execution_count": 68
        }
      ],
      "source": [
        "#Generate data\n",
        "x = np.linspace(1,4,50)\n",
        "y = a_ref * x + b_ref + noise\n",
        "x"
      ]
    },
    {
      "cell_type": "code",
      "execution_count": null,
      "metadata": {
        "id": "TXg3V3sKpUuO"
      },
      "outputs": [],
      "source": [
        "def MSE_loss(pred, label):\n",
        "    return (pred - label).pow(2).mean()"
      ]
    },
    {
      "cell_type": "code",
      "execution_count": null,
      "metadata": {
        "id": "BIFogRg5pUuP"
      },
      "outputs": [],
      "source": [
        "#Get data as torch.tensors\n",
        "xx = torch.tensor(x, dtype=torch.float32)\n",
        "yy = torch.tensor(y, dtype=torch.float32)\n",
        "\n",
        "#Create our unknown variables\n",
        "# a,b는 아무거나 넣은 것임\n",
        "a = torch.tensor(0, requires_grad=True, dtype=torch.float32)\n",
        "b = torch.tensor(199, requires_grad=True, dtype=torch.float32)"
      ]
    },
    {
      "cell_type": "code",
      "execution_count": null,
      "metadata": {
        "colab": {
          "base_uri": "https://localhost:8080/"
        },
        "id": "SB14fKy1pUuQ",
        "outputId": "e0d3c5f9-bdf6-4218-e1f3-7ffdee13e2a6"
      },
      "outputs": [
        {
          "output_type": "stream",
          "name": "stdout",
          "text": [
            "ii=    0 | loss = 37947.69 | a = -9.76 | b = 195.10\n",
            "ii= 1000 | loss = 61.50 | a = -9.95 | b = 31.40\n",
            "ii= 2000 | loss = 1.23 | a = -2.67 | b = 11.21\n",
            "ii= 3000 | loss = 0.06 | a = -1.66 | b = 8.39\n",
            "ii= 4000 | loss = 0.04 | a = -1.52 | b = 8.00\n",
            "ii= 5000 | loss = 0.04 | a = -1.50 | b = 7.94\n",
            "ii= 6000 | loss = 0.04 | a = -1.49 | b = 7.94\n",
            "ii= 7000 | loss = 0.04 | a = -1.49 | b = 7.94\n",
            "ii= 8000 | loss = 0.04 | a = -1.49 | b = 7.94\n",
            "ii= 9000 | loss = 0.04 | a = -1.49 | b = 7.94\n",
            "ii= 9999 | loss = 0.04 | a = -1.49 | b = 7.94\n",
            "tensor(-1.4932, requires_grad=True)\n",
            "tensor(7.9359, requires_grad=True)\n"
          ]
        }
      ],
      "source": [
        "# Training loop\n",
        "# SGD 사용\n",
        "numbOfEpoch = 10000\n",
        "learning_rate = 0.01\n",
        "for ii in range(numbOfEpoch):\n",
        "    y_pred = a * xx + b\n",
        "    loss = MSE_loss(pred=y_pred, label=yy)\n",
        "    loss.backward()\n",
        "    \n",
        "    #Gradient descent update\n",
        "    with torch.no_grad():\n",
        "        a = a - learning_rate * a.grad\n",
        "        b = b - learning_rate * b.grad\n",
        "        \n",
        "    a.requires_grad = True\n",
        "    b.requires_grad = True\n",
        "    if ii%1000 == 0 or ii == (numbOfEpoch - 1):\n",
        "        print(f'ii={ii:5d} | loss = {loss:.2f} | a = {a:.2f} | b = {b:.2f}')\n",
        "    \n",
        "print(a)\n",
        "print(b)"
      ]
    },
    {
      "cell_type": "markdown",
      "source": [
        "## My Practice"
      ],
      "metadata": {
        "id": "Kj837b7rN7Mo"
      }
    },
    {
      "cell_type": "code",
      "source": [
        "import torch\n",
        "import numpy as np\n",
        "\n",
        "%matplotlib inline\n",
        "import matplotlib.pyplot as plt\n",
        "\n",
        "a = 0.5\n",
        "b = 3\n",
        "\n",
        "x = np.linspace(1, 10, 100)\n",
        "noise = 0.3 * np.random.randn(100)\n",
        "y_noisy = a * x + b + noise"
      ],
      "metadata": {
        "id": "1b4PmKJDK7o5"
      },
      "execution_count": 113,
      "outputs": []
    },
    {
      "cell_type": "code",
      "source": [
        "fig = plt.figure()\n",
        "plt.plot(x, y_noisy)"
      ],
      "metadata": {
        "colab": {
          "base_uri": "https://localhost:8080/",
          "height": 283
        },
        "id": "UkC9p3nULg8D",
        "outputId": "9c372837-eda2-431e-c9b7-72606f0aa4b3"
      },
      "execution_count": 108,
      "outputs": [
        {
          "output_type": "execute_result",
          "data": {
            "text/plain": [
              "[<matplotlib.lines.Line2D at 0x7f6b922860d0>]"
            ]
          },
          "metadata": {},
          "execution_count": 108
        },
        {
          "output_type": "display_data",
          "data": {
            "text/plain": [
              "<Figure size 432x288 with 1 Axes>"
            ],
            "image/png": "[encoded data removed]"
          },
          "metadata": {
            "needs_background": "light"
          }
        }
      ]
    },
    {
      "cell_type": "code",
      "source": [
        "tensor_a = torch.tensor(0, requires_grad=True, dtype=torch.float32)\n",
        "tensor_b = torch.tensor(0, requires_grad=True, dtype=torch.float32)\n",
        "\n",
        "tensor_x = torch.tensor(x, dtype=torch.float32)\n",
        "tensor_y = torch.tensor(y_noisy, dtype=torch.float32)\n",
        "\n",
        "epoch = 1000\n",
        "learning_rate = 0.02\n",
        "\n",
        "def MSE_ERR(pred_val, dataset_val):\n",
        "  return (pred_val - dataset_val).pow(2).mean()\n",
        "\n",
        "for i in range(epoch):\n",
        "  y_pred = tensor_x * tensor_a + tensor_b\n",
        "  loss = MSE_ERR(y_pred, tensor_y)\n",
        "  loss.backward()\n",
        "\n",
        "  with torch.no_grad():\n",
        "    tensor_a = tensor_a - tensor_a.grad * learning_rate\n",
        "    tensor_b = tensor_b - tensor_b.grad * learning_rate\n",
        "  \n",
        "  tensor_a.requires_grad = True\n",
        "  tensor_b.requires_grad = True\n",
        "\n",
        "  if i % 100 == 0 or i == (epoch - 1):\n",
        "    print(f\"i : {i} / loss : {loss:.5f} / tensor_a : {tensor_a:.5f} / tensor_b : {tensor_b:.5f}\")\n",
        "\n"
      ],
      "metadata": {
        "colab": {
          "base_uri": "https://localhost:8080/"
        },
        "id": "YT2JdDJbLpdJ",
        "outputId": "04568c6d-f625-43c8-8a7f-5c6a9658c946"
      },
      "execution_count": 118,
      "outputs": [
        {
          "output_type": "stream",
          "name": "stdout",
          "text": [
            "i : 0 / loss : 34.72024 / tensor_a : 1.40097 / tensor_b : 0.22938\n",
            "i : 100 / loss : 0.41471 / tensor_a : 0.70668 / tensor_b : 1.60312\n",
            "i : 200 / loss : 0.15231 / tensor_a : 0.60287 / tensor_b : 2.30064\n",
            "i : 300 / loss : 0.09117 / tensor_a : 0.55276 / tensor_b : 2.63732\n",
            "i : 400 / loss : 0.07693 / tensor_a : 0.52857 / tensor_b : 2.79983\n",
            "i : 500 / loss : 0.07361 / tensor_a : 0.51690 / tensor_b : 2.87827\n",
            "i : 600 / loss : 0.07284 / tensor_a : 0.51126 / tensor_b : 2.91613\n",
            "i : 700 / loss : 0.07266 / tensor_a : 0.50854 / tensor_b : 2.93441\n",
            "i : 800 / loss : 0.07261 / tensor_a : 0.50723 / tensor_b : 2.94323\n",
            "i : 900 / loss : 0.07260 / tensor_a : 0.50660 / tensor_b : 2.94749\n",
            "i : 999 / loss : 0.07260 / tensor_a : 0.50629 / tensor_b : 2.94953\n"
          ]
        }
      ]
    },
    {
      "cell_type": "code",
      "source": [
        ""
      ],
      "metadata": {
        "id": "tNoX2Km1Nf07"
      },
      "execution_count": null,
      "outputs": []
    }
  ],
  "metadata": {
    "kernelspec": {
      "display_name": "Python 3",
      "language": "python",
      "name": "python3"
    },
    "language_info": {
      "codemirror_mode": {
        "name": "ipython",
        "version": 3
      },
      "file_extension": ".py",
      "mimetype": "text/x-python",
      "name": "python",
      "nbconvert_exporter": "python",
      "pygments_lexer": "ipython3",
      "version": "3.8.3"
    },
    "colab": {
      "name": "tutorial02_autograd.ipynb",
      "provenance": [],
      "collapsed_sections": [],
      "include_colab_link": true
    }
  },
  "nbformat": 4,
  "nbformat_minor": 0
}