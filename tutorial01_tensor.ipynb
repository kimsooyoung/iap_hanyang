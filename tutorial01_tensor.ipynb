{
  "cells": [
    {
      "cell_type": "markdown",
      "metadata": {
        "id": "view-in-github",
        "colab_type": "text"
      },
      "source": [
        "<a href=\"https://colab.research.google.com/github/kimsooyoung/iap_hanyang/blob/main/tutorial01_tensor.ipynb\" target=\"_parent\"><img src=\"https://colab.research.google.com/assets/colab-badge.svg\" alt=\"Open In Colab\"/></a>"
      ]
    },
    {
      "cell_type": "markdown",
      "source": [
        "# 3/29 수업"
      ],
      "metadata": {
        "id": "3M448zIxjoYy"
      }
    },
    {
      "cell_type": "markdown",
      "source": [
        ""
      ],
      "metadata": {
        "id": "Yz9wCdhgjlMX"
      }
    },
    {
      "cell_type": "code",
      "source": [
        "!lsb_release -a "
      ],
      "metadata": {
        "colab": {
          "base_uri": "https://localhost:8080/"
        },
        "id": "oYSMGxySlxjG",
        "outputId": "df9c5b34-579b-4607-bf34-6ceb7a0c45b3"
      },
      "execution_count": null,
      "outputs": [
        {
          "output_type": "stream",
          "name": "stdout",
          "text": [
            "No LSB modules are available.\n",
            "Distributor ID:\tUbuntu\n",
            "Description:\tUbuntu 18.04.5 LTS\n",
            "Release:\t18.04\n",
            "Codename:\tbionic\n"
          ]
        }
      ]
    },
    {
      "cell_type": "code",
      "execution_count": null,
      "metadata": {
        "id": "1OY1zBNYjh8N"
      },
      "outputs": [],
      "source": [
        "import torch\n",
        "import numpy as np\n",
        "import logging \n",
        "\n",
        "logging.basicConfig(\n",
        "    format='%(asctime)s %(message)s',\n",
        "    level=logging.INFO,\n",
        "    datefmt='%Y-%m-%d %H:%M:%S'\n",
        ")"
      ]
    },
    {
      "cell_type": "code",
      "execution_count": null,
      "metadata": {
        "id": "Ad_NvfGsjh8Q"
      },
      "outputs": [],
      "source": [
        "data = np.array([1,2,3], dtype=np.int32)\n",
        "# data = np.array([1,2,3,4], dtype=np.int32)"
      ]
    },
    {
      "cell_type": "code",
      "execution_count": null,
      "metadata": {
        "id": "zOlrstIXjh8Q"
      },
      "outputs": [],
      "source": [
        "t1 = torch.Tensor(data) # 기본적으로 torch.float32으로 초기화함, 나머지는 동일\n",
        "t2 = torch.tensor(data)\n",
        "t3 = torch.as_tensor(data)\n",
        "t4 = torch.from_numpy(data)"
      ]
    },
    {
      "cell_type": "code",
      "source": [
        "logging.info(t1)\n",
        "logging.info(t2)\n",
        "logging.info(t3)\n",
        "logging.info(t4)"
      ],
      "metadata": {
        "colab": {
          "base_uri": "https://localhost:8080/"
        },
        "id": "T1v93xgTlP-n",
        "outputId": "70609a1a-ffa1-4fbd-ef22-225057b3b264"
      },
      "execution_count": null,
      "outputs": [
        {
          "output_type": "stream",
          "name": "stderr",
          "text": [
            "2022-03-29 07:33:47 tensor([1., 2., 3.])\n",
            "2022-03-29 07:33:47 tensor([1, 2, 3], dtype=torch.int32)\n",
            "2022-03-29 07:33:47 tensor([1, 2, 3], dtype=torch.int32)\n",
            "2022-03-29 07:33:47 tensor([1, 2, 3], dtype=torch.int32)\n"
          ]
        }
      ]
    },
    {
      "cell_type": "code",
      "execution_count": null,
      "metadata": {
        "id": "E1ssr2Avjh8S",
        "outputId": "7b619e96-d00a-42cc-a017-79f7545fc0d8"
      },
      "outputs": [
        {
          "name": "stdout",
          "output_type": "stream",
          "text": [
            "torch.float32\n",
            "torch.int32\n",
            "torch.int32\n",
            "torch.int32\n"
          ]
        }
      ],
      "source": [
        "print(t1.dtype)\n",
        "print(t2.dtype)\n",
        "print(t3.dtype)\n",
        "print(t4.dtype)"
      ]
    },
    {
      "cell_type": "code",
      "execution_count": null,
      "metadata": {
        "id": "KpIQ67ayjh8S",
        "outputId": "0283855a-c75b-4e3d-dc6d-b98313baf90e",
        "colab": {
          "base_uri": "https://localhost:8080/"
        }
      },
      "outputs": [
        {
          "output_type": "execute_result",
          "data": {
            "text/plain": [
              "torch.float32"
            ]
          },
          "metadata": {},
          "execution_count": 8
        }
      ],
      "source": [
        "torch.get_default_dtype()"
      ]
    },
    {
      "cell_type": "code",
      "execution_count": null,
      "metadata": {
        "id": "5oHG9ssqjh8T",
        "outputId": "cd5f879e-12d7-4753-a6f3-858642e30f25",
        "colab": {
          "base_uri": "https://localhost:8080/"
        }
      },
      "outputs": [
        {
          "output_type": "stream",
          "name": "stdout",
          "text": [
            "tensor([1., 2., 3.], dtype=torch.float64) torch.float64\n"
          ]
        }
      ],
      "source": [
        "t2 = torch.tensor(data, dtype=torch.float64)\n",
        "print(t2, t2.dtype)"
      ]
    },
    {
      "cell_type": "code",
      "execution_count": null,
      "metadata": {
        "id": "PUmH9UZ1jh8U",
        "outputId": "8df7b63d-4f12-420b-c245-8dbaf88efffd",
        "colab": {
          "base_uri": "https://localhost:8080/"
        }
      },
      "outputs": [
        {
          "output_type": "execute_result",
          "data": {
            "text/plain": [
              "array([1, 2, 3])"
            ]
          },
          "metadata": {},
          "execution_count": 10
        }
      ],
      "source": [
        "data = np.array([1,2,3])\n",
        "data"
      ]
    },
    {
      "cell_type": "code",
      "execution_count": null,
      "metadata": {
        "id": "ZVHS5wg3jh8V"
      },
      "outputs": [],
      "source": [
        "t1 = torch.Tensor(data) # 이건 포멧을 바꾼다 \n",
        "t2 = torch.tensor(data) # 이게 최고\n",
        "t3 = torch.as_tensor(data) # 이 두개는 mutable 하다.\n",
        "t4 = torch.from_numpy(data)"
      ]
    },
    {
      "cell_type": "code",
      "execution_count": null,
      "metadata": {
        "id": "i3kqYa2Ljh8V",
        "outputId": "7c2c7506-9368-4797-dd90-16f25725fbd7",
        "colab": {
          "base_uri": "https://localhost:8080/"
        }
      },
      "outputs": [
        {
          "output_type": "execute_result",
          "data": {
            "text/plain": [
              "array([0, 0, 0])"
            ]
          },
          "metadata": {},
          "execution_count": 12
        }
      ],
      "source": [
        "data[:] = 0\n",
        "data"
      ]
    },
    {
      "cell_type": "code",
      "execution_count": null,
      "metadata": {
        "id": "H8ewizxVjh8W",
        "outputId": "c8e8cee8-c991-469d-f32a-1c012df6ef80",
        "colab": {
          "base_uri": "https://localhost:8080/"
        }
      },
      "outputs": [
        {
          "output_type": "stream",
          "name": "stdout",
          "text": [
            "tensor([1., 2., 3.])\n",
            "tensor([1, 2, 3])\n"
          ]
        }
      ],
      "source": [
        "print(t1)\n",
        "print(t2)"
      ]
    },
    {
      "cell_type": "code",
      "execution_count": null,
      "metadata": {
        "id": "hTZmL2K-jh8W",
        "outputId": "41b505db-209d-4173-e196-7694ffe6ff86",
        "colab": {
          "base_uri": "https://localhost:8080/"
        }
      },
      "outputs": [
        {
          "output_type": "stream",
          "name": "stdout",
          "text": [
            "tensor([0, 0, 0])\n",
            "tensor([0, 0, 0])\n"
          ]
        }
      ],
      "source": [
        "print(t3)\n",
        "print(t4)"
      ]
    },
    {
      "cell_type": "code",
      "source": [
        "data = torch.tensor([[1,2,3],[4,5,6]])\n",
        "data.shape"
      ],
      "metadata": {
        "colab": {
          "base_uri": "https://localhost:8080/"
        },
        "id": "7tDv650qp-wp",
        "outputId": "3cab2f9f-bfec-409d-f0c1-3cbac6d4b04e"
      },
      "execution_count": null,
      "outputs": [
        {
          "output_type": "execute_result",
          "data": {
            "text/plain": [
              "torch.Size([2, 3])"
            ]
          },
          "metadata": {},
          "execution_count": 20
        }
      ]
    },
    {
      "cell_type": "code",
      "source": [
        "data[:,0]"
      ],
      "metadata": {
        "colab": {
          "base_uri": "https://localhost:8080/"
        },
        "id": "OtsRTUfWqOrz",
        "outputId": "18b1eda3-f35b-4638-fe92-06160a0cd813"
      },
      "execution_count": null,
      "outputs": [
        {
          "output_type": "execute_result",
          "data": {
            "text/plain": [
              "tensor([1, 4])"
            ]
          },
          "metadata": {},
          "execution_count": 29
        }
      ]
    },
    {
      "cell_type": "markdown",
      "source": [
        "## 차원 갖고 놀기"
      ],
      "metadata": {
        "id": "wz4A8DDBBK3R"
      }
    },
    {
      "cell_type": "code",
      "source": [
        "t = torch.arange(6)\n",
        "t"
      ],
      "metadata": {
        "colab": {
          "base_uri": "https://localhost:8080/"
        },
        "id": "qPjV6VGTBSfN",
        "outputId": "b6f7d1d3-c11b-4c4d-d738-d1c31db6ad6f"
      },
      "execution_count": null,
      "outputs": [
        {
          "output_type": "execute_result",
          "data": {
            "text/plain": [
              "tensor([0, 1, 2, 3, 4, 5])"
            ]
          },
          "metadata": {},
          "execution_count": 30
        }
      ]
    },
    {
      "cell_type": "code",
      "source": [
        "t_reshape = t.reshape(2,3) # t.view(2,3), t.view(2, -1)과 동일하다.\n",
        "t_reshape\n",
        "t.view(2,3)"
      ],
      "metadata": {
        "colab": {
          "base_uri": "https://localhost:8080/"
        },
        "id": "UO7eWTSdBZJP",
        "outputId": "ef6dfb66-988c-40cf-b39a-f0d1f806f624"
      },
      "execution_count": null,
      "outputs": [
        {
          "output_type": "execute_result",
          "data": {
            "text/plain": [
              "tensor([[0, 1, 2],\n",
              "        [3, 4, 5]])"
            ]
          },
          "metadata": {},
          "execution_count": 34
        }
      ]
    },
    {
      "cell_type": "code",
      "source": [
        "x = torch.ones(5,1,4,1)\n",
        "y = torch.ones(3,1,1)"
      ],
      "metadata": {
        "id": "m2kAZbkSDKFI"
      },
      "execution_count": null,
      "outputs": []
    },
    {
      "cell_type": "markdown",
      "source": [
        "# GPU, CPU 사용하기"
      ],
      "metadata": {
        "id": "tKXpJGegsQMM"
      }
    },
    {
      "cell_type": "code",
      "source": [
        "t_cpu = torch.tensor(data=[1,2,3], device='cpu')\n",
        "t_cpu.device"
      ],
      "metadata": {
        "colab": {
          "base_uri": "https://localhost:8080/"
        },
        "id": "7041ZaoTqoau",
        "outputId": "5fac5e86-87ba-47e6-8edd-2f0b739bb039"
      },
      "execution_count": null,
      "outputs": [
        {
          "output_type": "execute_result",
          "data": {
            "text/plain": [
              "device(type='cpu')"
            ]
          },
          "metadata": {},
          "execution_count": 16
        }
      ]
    },
    {
      "cell_type": "code",
      "source": [
        "t_cuda = torch.tensor(data=[1,2,3], device='cuda:0')\n",
        "t_cuda.device"
      ],
      "metadata": {
        "colab": {
          "base_uri": "https://localhost:8080/"
        },
        "id": "M2m6zZ_Urus2",
        "outputId": "1565a77f-9ca6-435a-c42e-11497cec23c2"
      },
      "execution_count": null,
      "outputs": [
        {
          "output_type": "execute_result",
          "data": {
            "text/plain": [
              "device(type='cuda', index=0)"
            ]
          },
          "metadata": {},
          "execution_count": 17
        }
      ]
    },
    {
      "cell_type": "code",
      "source": [
        "# t_cuda는 어떤 연산을 해도 gpu에 저장된다.\n",
        "x = t_cuda + 1\n",
        "x.device"
      ],
      "metadata": {
        "colab": {
          "base_uri": "https://localhost:8080/"
        },
        "id": "pfv0gglfscDF",
        "outputId": "75e973f5-b9ec-4183-c78e-b33f9486ddfe"
      },
      "execution_count": null,
      "outputs": [
        {
          "output_type": "execute_result",
          "data": {
            "text/plain": [
              "device(type='cuda', index=0)"
            ]
          },
          "metadata": {},
          "execution_count": 18
        }
      ]
    },
    {
      "cell_type": "code",
      "source": [
        "t_cuda_to_cpu = t_cuda.to('cpu')\n",
        "t_cpu + t_cuda_to_cpu"
      ],
      "metadata": {
        "colab": {
          "base_uri": "https://localhost:8080/"
        },
        "id": "2804U6jUFTKq",
        "outputId": "0f346c6c-d401-419e-9242-b9d760f58c83"
      },
      "execution_count": null,
      "outputs": [
        {
          "output_type": "execute_result",
          "data": {
            "text/plain": [
              "tensor([2, 4, 6])"
            ]
          },
          "metadata": {},
          "execution_count": 48
        }
      ]
    },
    {
      "cell_type": "code",
      "source": [
        "t_test = torch.tensor([1,2,3], dtype=torch.float64)\n",
        "t_test"
      ],
      "metadata": {
        "colab": {
          "base_uri": "https://localhost:8080/"
        },
        "id": "x8Qg1GzVrydK",
        "outputId": "1498e0bd-0923-4eed-d0f6-416c59da8ae9"
      },
      "execution_count": null,
      "outputs": [
        {
          "output_type": "execute_result",
          "data": {
            "text/plain": [
              "tensor([1., 2., 3.], dtype=torch.float64)"
            ]
          },
          "metadata": {},
          "execution_count": 19
        }
      ]
    },
    {
      "cell_type": "code",
      "source": [
        "t_test += 0.00000000001\n",
        "t_test"
      ],
      "metadata": {
        "colab": {
          "base_uri": "https://localhost:8080/"
        },
        "id": "M5N20dCmsvHf",
        "outputId": "6be47a08-f5cb-4785-fc40-fbb430ce683d"
      },
      "execution_count": null,
      "outputs": [
        {
          "output_type": "execute_result",
          "data": {
            "text/plain": [
              "tensor([1.0000, 2.0000, 3.0000], dtype=torch.float64)"
            ]
          },
          "metadata": {},
          "execution_count": 11
        }
      ]
    },
    {
      "cell_type": "markdown",
      "source": [
        "### 서로 다른 데이터 타입의 tensor끼리 연산하기"
      ],
      "metadata": {
        "id": "KqVb9AKcGRB0"
      }
    },
    {
      "cell_type": "code",
      "source": [
        "t_int = torch.tensor([1,2,3], dtype=torch.int32)\n",
        "t_float = torch.tensor([1,2,3], dtype=torch.float32)\n",
        "\n",
        "print(t_int.dtype, t_float.dtype)\n",
        "t_int + t_float"
      ],
      "metadata": {
        "colab": {
          "base_uri": "https://localhost:8080/"
        },
        "id": "qfq8EEDlGVK1",
        "outputId": "3eb6ed70-2451-4feb-d8bb-15df6f66fbb1"
      },
      "execution_count": null,
      "outputs": [
        {
          "output_type": "stream",
          "name": "stdout",
          "text": [
            "torch.int32 torch.float32\n"
          ]
        },
        {
          "output_type": "execute_result",
          "data": {
            "text/plain": [
              "tensor([2., 4., 6.])"
            ]
          },
          "metadata": {},
          "execution_count": 51
        }
      ]
    },
    {
      "cell_type": "markdown",
      "source": [
        "# requires_grad와 detach"
      ],
      "metadata": {
        "id": "stqLQkXStdru"
      }
    },
    {
      "cell_type": "code",
      "source": [
        "x_grad = torch.tensor(2.5, requires_grad=True)\n",
        "print(x_grad)\n",
        "\n",
        "y = x_grad\n",
        "print(y)\n",
        "\n",
        "# requires_grad가 False가 된다.\n",
        "z = x_grad.detach()\n",
        "print(z, z.requires_grad)\n",
        "\n",
        "# 다시 True\n",
        "z.required_grad = True\n",
        "print(z, z.required_grad)"
      ],
      "metadata": {
        "colab": {
          "base_uri": "https://localhost:8080/"
        },
        "id": "b4Uv5-WVtjRQ",
        "outputId": "1619a632-503f-4d24-c2df-884f86553cde"
      },
      "execution_count": 58,
      "outputs": [
        {
          "output_type": "stream",
          "name": "stdout",
          "text": [
            "tensor(2.5000, requires_grad=True)\n",
            "tensor(2.5000, requires_grad=True)\n",
            "tensor(2.5000) False\n",
            "tensor(2.5000) True\n"
          ]
        }
      ]
    },
    {
      "cell_type": "markdown",
      "source": [
        "### Tensor로부터 파이썬 변수 뽑아내기"
      ],
      "metadata": {
        "id": "M8GY9c9SHzft"
      }
    },
    {
      "cell_type": "code",
      "source": [
        "tensor_var = torch.tensor(2.5, requires_grad=True)\n",
        "python_var = tensor_var.item()\n",
        "python_var\n",
        "\n",
        "print(type(tensor_var), type(python_var))"
      ],
      "metadata": {
        "colab": {
          "base_uri": "https://localhost:8080/"
        },
        "id": "-vgyntCnHwn9",
        "outputId": "a0d27ca5-abf1-4432-8c27-694836d7e9f8"
      },
      "execution_count": 59,
      "outputs": [
        {
          "output_type": "stream",
          "name": "stdout",
          "text": [
            "<class 'torch.Tensor'> <class 'float'>\n"
          ]
        }
      ]
    },
    {
      "cell_type": "code",
      "source": [
        ""
      ],
      "metadata": {
        "id": "_BWGLg36H9Th"
      },
      "execution_count": null,
      "outputs": []
    }
  ],
  "metadata": {
    "kernelspec": {
      "display_name": "Python 3",
      "language": "python",
      "name": "python3"
    },
    "language_info": {
      "codemirror_mode": {
        "name": "ipython",
        "version": 3
      },
      "file_extension": ".py",
      "mimetype": "text/x-python",
      "name": "python",
      "nbconvert_exporter": "python",
      "pygments_lexer": "ipython3",
      "version": "3.8.3"
    },
    "colab": {
      "name": "tutorial01_tensor.ipynb",
      "provenance": [],
      "collapsed_sections": [],
      "toc_visible": true,
      "include_colab_link": true
    },
    "accelerator": "GPU"
  },
  "nbformat": 4,
  "nbformat_minor": 0
}